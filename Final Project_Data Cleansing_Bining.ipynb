{
 "cells": [
  {
   "cell_type": "markdown",
   "metadata": {},
   "source": [
    "# Data Cleansing"
   ]
  },
  {
   "cell_type": "code",
   "execution_count": 1,
   "metadata": {},
   "outputs": [],
   "source": [
    "import pandas as pd\n",
    "import matplotlib.pyplot as plt\n",
    "import numpy as np\n",
    "from pprint import pprint\n",
    "from datetime import datetime"
   ]
  },
  {
   "cell_type": "code",
   "execution_count": 2,
   "metadata": {},
   "outputs": [],
   "source": [
    "Chicago_TA = pd.read_csv(\"./Chicago_review_data.csv\")\n",
    "NYC_TA = pd.read_csv(\"./NYC_review_data.csv\")\n",
    "DC_TA = pd.read_csv(\"./DC_review_data.csv\")\n",
    "\n",
    "NYC_Yelp = pd.read_csv(\"./Newyork_yelp_review.csv\", encoding=\"iso-8859-1\")\n",
    "DC_Yelp = pd.read_csv(\"./washington_review.csv\", encoding=\"iso-8859-1\")"
   ]
  },
  {
   "cell_type": "code",
   "execution_count": 3,
   "metadata": {},
   "outputs": [],
   "source": [
    "# Add City name\n",
    "Chicago_TA[\"City\"] = \"Chicago\"\n",
    "NYC_TA[\"City\"] = \"NYC\"\n",
    "DC_TA[\"City\"] = \"DC\"\n",
    "NYC_Yelp[\"City\"] = \"NYC\"\n",
    "DC_Yelp[\"City\"] = \"DC\"\n"
   ]
  },
  {
   "cell_type": "code",
   "execution_count": 4,
   "metadata": {},
   "outputs": [
    {
     "data": {
      "text/html": [
       "<div>\n",
       "<style scoped>\n",
       "    .dataframe tbody tr th:only-of-type {\n",
       "        vertical-align: middle;\n",
       "    }\n",
       "\n",
       "    .dataframe tbody tr th {\n",
       "        vertical-align: top;\n",
       "    }\n",
       "\n",
       "    .dataframe thead th {\n",
       "        text-align: right;\n",
       "    }\n",
       "</style>\n",
       "<table border=\"1\" class=\"dataframe\">\n",
       "  <thead>\n",
       "    <tr style=\"text-align: right;\">\n",
       "      <th></th>\n",
       "      <th>City</th>\n",
       "      <th>Stars</th>\n",
       "      <th>Class</th>\n",
       "      <th>Review_Source</th>\n",
       "      <th>Review_Date</th>\n",
       "      <th>Review_Text</th>\n",
       "    </tr>\n",
       "  </thead>\n",
       "  <tbody>\n",
       "    <tr>\n",
       "      <th>0</th>\n",
       "      <td>Chicago</td>\n",
       "      <td>5</td>\n",
       "      <td>Positive</td>\n",
       "      <td>TripAdvisor</td>\n",
       "      <td>04/15/2019</td>\n",
       "      <td>Must do when in Chicago! We loved renting thes...</td>\n",
       "    </tr>\n",
       "    <tr>\n",
       "      <th>1</th>\n",
       "      <td>Chicago</td>\n",
       "      <td>1</td>\n",
       "      <td>Negative</td>\n",
       "      <td>TripAdvisor</td>\n",
       "      <td>03/08/2019</td>\n",
       "      <td>Dissapointed Very disappointed with Divvy Bike...</td>\n",
       "    </tr>\n",
       "    <tr>\n",
       "      <th>2</th>\n",
       "      <td>Chicago</td>\n",
       "      <td>1</td>\n",
       "      <td>Negative</td>\n",
       "      <td>TripAdvisor</td>\n",
       "      <td>02/25/2019</td>\n",
       "      <td>Dishonest company.. Terrible customer service ...</td>\n",
       "    </tr>\n",
       "    <tr>\n",
       "      <th>3</th>\n",
       "      <td>Chicago</td>\n",
       "      <td>5</td>\n",
       "      <td>Positive</td>\n",
       "      <td>TripAdvisor</td>\n",
       "      <td>02/12/2019</td>\n",
       "      <td>Practical, eco-friendly transportation Awesome...</td>\n",
       "    </tr>\n",
       "    <tr>\n",
       "      <th>4</th>\n",
       "      <td>Chicago</td>\n",
       "      <td>2</td>\n",
       "      <td>Negative</td>\n",
       "      <td>TripAdvisor</td>\n",
       "      <td>01/23/2019</td>\n",
       "      <td>Service has gone way down. Not reliable anymor...</td>\n",
       "    </tr>\n",
       "  </tbody>\n",
       "</table>\n",
       "</div>"
      ],
      "text/plain": [
       "      City  Stars     Class Review_Source Review_Date  \\\n",
       "0  Chicago      5  Positive   TripAdvisor  04/15/2019   \n",
       "1  Chicago      1  Negative   TripAdvisor  03/08/2019   \n",
       "2  Chicago      1  Negative   TripAdvisor  02/25/2019   \n",
       "3  Chicago      5  Positive   TripAdvisor  02/12/2019   \n",
       "4  Chicago      2  Negative   TripAdvisor  01/23/2019   \n",
       "\n",
       "                                         Review_Text  \n",
       "0  Must do when in Chicago! We loved renting thes...  \n",
       "1  Dissapointed Very disappointed with Divvy Bike...  \n",
       "2  Dishonest company.. Terrible customer service ...  \n",
       "3  Practical, eco-friendly transportation Awesome...  \n",
       "4  Service has gone way down. Not reliable anymor...  "
      ]
     },
     "execution_count": 4,
     "metadata": {},
     "output_type": "execute_result"
    }
   ],
   "source": [
    "Merge_table_TA = Chicago_TA.append([NYC_TA, DC_TA])\n",
    "Merge_table_TA[\"Review_Text\"] = Merge_table_TA[\"Entry_Quote\"] + \" \" + Merge_table_TA[\"Entry_Content\"]\n",
    "Merge_table_TA = Merge_table_TA.rename(columns={\"Entry_Date\": \"Review_Date\",\n",
    "                                  \"review_text\":\"Review_Text\"})\n",
    "\n",
    "Merge_table_TA.loc[Merge_table_TA[\"Stars\"] == 1, \"Class\"] = \"Negative\"\n",
    "Merge_table_TA.loc[Merge_table_TA[\"Stars\"] == 2, \"Class\"] = \"Negative\"\n",
    "Merge_table_TA.loc[Merge_table_TA[\"Stars\"] == 3, \"Class\"] = \"Neutral\"\n",
    "Merge_table_TA.loc[Merge_table_TA[\"Stars\"] == 4, \"Class\"] = \"Positive\"\n",
    "Merge_table_TA.loc[Merge_table_TA[\"Stars\"] == 5, \"Class\"] = \"Positive\"\n",
    "\n",
    "Merge_table_TA[\"Review_Source\"] = \"TripAdvisor\"\n",
    "\n",
    "Merge_table_TA = Merge_table_TA[['City', 'Stars', 'Class', 'Review_Source', 'Review_Date', 'Review_Text']]\n",
    "\n",
    "Merge_table_TA.to_csv(\"Merge_table_TripAdvisor.csv\", index=False)\n",
    "\n",
    "Merge_table_TA.head()"
   ]
  },
  {
   "cell_type": "code",
   "execution_count": 5,
   "metadata": {},
   "outputs": [
    {
     "name": "stdout",
     "output_type": "stream",
     "text": [
      "<class 'pandas.core.frame.DataFrame'>\n",
      "Int64Index: 886 entries, 0 to 325\n",
      "Data columns (total 6 columns):\n",
      "City             886 non-null object\n",
      "Stars            886 non-null int64\n",
      "Class            886 non-null object\n",
      "Review_Source    886 non-null object\n",
      "Review_Date      886 non-null object\n",
      "Review_Text      886 non-null object\n",
      "dtypes: int64(1), object(5)\n",
      "memory usage: 48.5+ KB\n"
     ]
    }
   ],
   "source": [
    "Merge_table_TA.info()"
   ]
  },
  {
   "cell_type": "code",
   "execution_count": 6,
   "metadata": {},
   "outputs": [
    {
     "data": {
      "text/html": [
       "<div>\n",
       "<style scoped>\n",
       "    .dataframe tbody tr th:only-of-type {\n",
       "        vertical-align: middle;\n",
       "    }\n",
       "\n",
       "    .dataframe tbody tr th {\n",
       "        vertical-align: top;\n",
       "    }\n",
       "\n",
       "    .dataframe thead th {\n",
       "        text-align: right;\n",
       "    }\n",
       "</style>\n",
       "<table border=\"1\" class=\"dataframe\">\n",
       "  <thead>\n",
       "    <tr style=\"text-align: right;\">\n",
       "      <th></th>\n",
       "      <th>City</th>\n",
       "      <th>Stars</th>\n",
       "      <th>Class</th>\n",
       "      <th>Review_Source</th>\n",
       "      <th>Review_Date</th>\n",
       "      <th>Review_Text</th>\n",
       "    </tr>\n",
       "  </thead>\n",
       "  <tbody>\n",
       "    <tr>\n",
       "      <th>0</th>\n",
       "      <td>NYC</td>\n",
       "      <td>5</td>\n",
       "      <td>Positive</td>\n",
       "      <td>Yelp</td>\n",
       "      <td>05/27/2018</td>\n",
       "      <td>It's not perfect, but I see Citibike as basica...</td>\n",
       "    </tr>\n",
       "    <tr>\n",
       "      <th>1</th>\n",
       "      <td>NYC</td>\n",
       "      <td>1</td>\n",
       "      <td>Negative</td>\n",
       "      <td>Yelp</td>\n",
       "      <td>11/02/2018</td>\n",
       "      <td>Beware when signing up for the annual membersh...</td>\n",
       "    </tr>\n",
       "    <tr>\n",
       "      <th>2</th>\n",
       "      <td>NYC</td>\n",
       "      <td>1</td>\n",
       "      <td>Negative</td>\n",
       "      <td>Yelp</td>\n",
       "      <td>12/23/2018</td>\n",
       "      <td>This used to be a nice town. This use to be a ...</td>\n",
       "    </tr>\n",
       "    <tr>\n",
       "      <th>3</th>\n",
       "      <td>NYC</td>\n",
       "      <td>2</td>\n",
       "      <td>Negative</td>\n",
       "      <td>Yelp</td>\n",
       "      <td>04/23/2019</td>\n",
       "      <td>I think Citibike is a wonderful service for th...</td>\n",
       "    </tr>\n",
       "    <tr>\n",
       "      <th>4</th>\n",
       "      <td>NYC</td>\n",
       "      <td>1</td>\n",
       "      <td>Negative</td>\n",
       "      <td>Yelp</td>\n",
       "      <td>03/12/2019</td>\n",
       "      <td>Not happy to be charged extra for using the el...</td>\n",
       "    </tr>\n",
       "  </tbody>\n",
       "</table>\n",
       "</div>"
      ],
      "text/plain": [
       "  City  Stars     Class Review_Source Review_Date  \\\n",
       "0  NYC      5  Positive          Yelp  05/27/2018   \n",
       "1  NYC      1  Negative          Yelp  11/02/2018   \n",
       "2  NYC      1  Negative          Yelp  12/23/2018   \n",
       "3  NYC      2  Negative          Yelp  04/23/2019   \n",
       "4  NYC      1  Negative          Yelp  03/12/2019   \n",
       "\n",
       "                                         Review_Text  \n",
       "0  It's not perfect, but I see Citibike as basica...  \n",
       "1  Beware when signing up for the annual membersh...  \n",
       "2  This used to be a nice town. This use to be a ...  \n",
       "3  I think Citibike is a wonderful service for th...  \n",
       "4  Not happy to be charged extra for using the el...  "
      ]
     },
     "execution_count": 6,
     "metadata": {},
     "output_type": "execute_result"
    }
   ],
   "source": [
    "Merge_table_Yelp = NYC_Yelp.append(DC_Yelp)\n",
    "Merge_table_Yelp = Merge_table_Yelp.drop(Merge_table_Yelp.columns[0], axis=1)\n",
    "Merge_table_Yelp = Merge_table_Yelp.rename(columns={\"review_ratings\":\"Stars\",\n",
    "                                  \"review_date\": \"Review_Date\",\n",
    "                                  \"review_text\":\"Review_Text\"})\n",
    "\n",
    "Merge_table_Yelp[\"Review_Date\"] = pd.to_datetime(Merge_table_Yelp[\"Review_Date\"], format='%m/%d/%Y').apply(lambda x: x.strftime('%m/%d/%Y'))\n",
    "\n",
    "Merge_table_Yelp.loc[Merge_table_Yelp[\"Stars\"] == 1, \"Class\"] = \"Negative\"\n",
    "Merge_table_Yelp.loc[Merge_table_Yelp[\"Stars\"] == 2, \"Class\"] = \"Negative\"\n",
    "Merge_table_Yelp.loc[Merge_table_Yelp[\"Stars\"] == 3, \"Class\"] = \"Neutral\"\n",
    "Merge_table_Yelp.loc[Merge_table_Yelp[\"Stars\"] == 4, \"Class\"] = \"Positive\"\n",
    "Merge_table_Yelp.loc[Merge_table_Yelp[\"Stars\"] == 5, \"Class\"] = \"Positive\"\n",
    "\n",
    "Merge_table_Yelp[\"Stars\"] = Merge_table_Yelp[\"Stars\"].astype(np.int64)\n",
    "\n",
    "Merge_table_Yelp[\"Review_Source\"] = \"Yelp\"\n",
    "\n",
    "Merge_table_Yelp = Merge_table_Yelp[['City', 'Stars', 'Class', 'Review_Source', 'Review_Date', 'Review_Text']]\n",
    "    \n",
    "Merge_table_Yelp.to_csv(\"Merge_table_Yelp.csv\", index=False)\n",
    "\n",
    "Merge_table_Yelp.head()\n",
    "\n"
   ]
  },
  {
   "cell_type": "code",
   "execution_count": 7,
   "metadata": {},
   "outputs": [
    {
     "name": "stdout",
     "output_type": "stream",
     "text": [
      "<class 'pandas.core.frame.DataFrame'>\n",
      "Int64Index: 777 entries, 0 to 355\n",
      "Data columns (total 6 columns):\n",
      "City             777 non-null object\n",
      "Stars            777 non-null int64\n",
      "Class            777 non-null object\n",
      "Review_Source    777 non-null object\n",
      "Review_Date      777 non-null object\n",
      "Review_Text      777 non-null object\n",
      "dtypes: int64(1), object(5)\n",
      "memory usage: 42.5+ KB\n"
     ]
    }
   ],
   "source": [
    "Merge_table_Yelp.info()"
   ]
  },
  {
   "cell_type": "code",
   "execution_count": null,
   "metadata": {},
   "outputs": [],
   "source": []
  }
 ],
 "metadata": {
  "kernelspec": {
   "display_name": "Python 3",
   "language": "python",
   "name": "python3"
  },
  "language_info": {
   "codemirror_mode": {
    "name": "ipython",
    "version": 3
   },
   "file_extension": ".py",
   "mimetype": "text/x-python",
   "name": "python",
   "nbconvert_exporter": "python",
   "pygments_lexer": "ipython3",
   "version": "3.7.1"
  }
 },
 "nbformat": 4,
 "nbformat_minor": 2
}
